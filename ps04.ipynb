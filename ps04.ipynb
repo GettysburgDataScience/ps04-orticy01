{
 "cells": [
  {
   "cell_type": "markdown",
   "id": "83177ee9",
   "metadata": {},
   "source": [
    "## Replace this with your name and Section"
   ]
  },
  {
   "cell_type": "markdown",
   "id": "a1b00660-589c-4adf-91a5-c2875670a724",
   "metadata": {},
   "source": [
    "DS 256 Data Science Programming, Fall 2024\n",
    "\n",
    "Prof Eatai Roth\n",
    "\n",
    "## Problem Set 4\n",
    "Due 11/4/2024 by 5p"
   ]
  },
  {
   "cell_type": "markdown",
   "id": "34ee7898",
   "metadata": {},
   "source": [
    "### Problem 1\n",
    "Write a function ```greaterThan(A, lower_lim)``` that takes as an argument a numpy array A and a number lower_lim and returns an array with every entry less than or equal to lower_lim replaced by zero. That is to say, only the numbers strictly greater than lower_lim remain, the rest are 0."
   ]
  },
  {
   "cell_type": "code",
   "execution_count": 14,
   "id": "6c0848ae",
   "metadata": {},
   "outputs": [],
   "source": [
    "'''your code here'''\n",
    "\n",
    "def greaterThan(A, lower_lim):\n",
    "    A[A <= lower_lim] = 0    # no copy made; may cause changes to array values\n",
    "    return A\n",
    "\n",
    "# citation for aid: “what may happen if a copy is not created for an array code?” prompt. ChatGPT, 8 Jul. 2024, OpenAI, 3 Nov. 2024, chat.openai.com/chat."
   ]
  },
  {
   "cell_type": "code",
   "execution_count": 16,
   "id": "f8706574-ecd0-40c0-89e3-ab8663ed9393",
   "metadata": {},
   "outputs": [
    {
     "name": "stdout",
     "output_type": "stream",
     "text": [
      "You passed all the tests!\n"
     ]
    }
   ],
   "source": [
    "A = np.array([1, 2, 3, 4, 5, 6, 7, 8, 9])\n",
    "B = np.array([[-1, 1], [2, -2], [0, 3]])\n",
    "C = np.array([[101.1, 100, 99.9], [99.8, 100.1, 98.9], [103.2, 99, 98]])\n",
    "\n",
    "assert np.all(greaterThan(A, 5) == np.array([0, 0, 0, 0, 0, 6, 7, 8, 9]))\n",
    "assert np.all(greaterThan(B, 0) == np.array([[0, 1], [2, 0], [0, 3]]))\n",
    "assert np.all(greaterThan(C, 100) == np.array([[101.1, 0, 0], [0, 100.1, 0], [103.2, 0, 0]]))\n",
    "\n",
    "print(\"You passed all the tests!\")"
   ]
  },
  {
   "cell_type": "code",
   "execution_count": 8,
   "id": "8caaf2ba-c37d-4799-bdb3-7ca0ab3a9b44",
   "metadata": {},
   "outputs": [],
   "source": [
    "'''your code here'''\n",
    "\n",
    "import numpy as np  #this will run the numpy thingy\n",
    "\n",
    "def greaterThan(A, lower_lim):\n",
    "    \n",
    "    result = np.copy(A)    # copy will not change the array\n",
    "    \n",
    "    result[result <= lower_lim] = 0   # ideentifies elements that are less than or equal to the number lower_lim\n",
    "    return result\n",
    "\n",
    "# Citation for aid: “what function in the code will help me from not changing the original information” prompt. ChatGPT, 8 Jul. 2024, OpenAI, 3 Nov. 2024, chat.openai.com/chat."
   ]
  },
  {
   "cell_type": "code",
   "execution_count": 6,
   "id": "a57c2f50",
   "metadata": {},
   "outputs": [
    {
     "name": "stdout",
     "output_type": "stream",
     "text": [
      "You passed all the tests!\n"
     ]
    }
   ],
   "source": [
    "A = np.array([1, 2, 3, 4, 5, 6, 7, 8, 9])\n",
    "B = np.array([[-1, 1], [2, -2], [0, 3]])\n",
    "C = np.array([[101.1, 100, 99.9], [99.8, 100.1, 98.9], [103.2, 99, 98]])\n",
    "\n",
    "assert np.all(greaterThan(A, 5) == np.array([0, 0, 0, 0, 0, 6, 7, 8, 9]))\n",
    "assert np.all(greaterThan(B, 0) == np.array([[0, 1], [2, 0], [0, 3]]))\n",
    "assert np.all(greaterThan(C, 100) == np.array([[101.1, 0, 0], [0, 100.1, 0], [103.2, 0, 0]]))\n",
    "\n",
    "print(\"You passed all the tests!\")"
   ]
  },
  {
   "cell_type": "markdown",
   "id": "878a3744",
   "metadata": {},
   "source": [
    "### Problem 2\n",
    "Write a function ```subtractMean(A)``` that takes as an input the numpy array and returns the array with the mean of all the values subtracted from every element."
   ]
  },
  {
   "cell_type": "code",
   "execution_count": 10,
   "id": "c40ea21b",
   "metadata": {},
   "outputs": [],
   "source": [
    "'''your code here'''\n",
    "\n",
    "import numpy as np\n",
    "\n",
    "def subtractMean(A):  \n",
    "    mean_value = np.mean(A)  # overall mean\n",
    "    return A - mean_value  # takes the mean and subtracts from other values\n",
    "\n",
    "# Citation for aid: “how do you get a function to subtract a mean from all values in an array?” prompt. ChatGPT, 8 Jul. 2024, OpenAI, 3 Nov. 2024, chat.openai.com/chat."
   ]
  },
  {
   "cell_type": "markdown",
   "id": "8c36e69e",
   "metadata": {},
   "source": [
    "If the tests below aren't passing, check the values of A, B, and C. These should be the same as in the test for Problem 1. If the values in these arrays have changed, why might that be?"
   ]
  },
  {
   "cell_type": "code",
   "execution_count": 12,
   "id": "eee6cfea",
   "metadata": {},
   "outputs": [
    {
     "name": "stdout",
     "output_type": "stream",
     "text": [
      "You passed all the tests!\n"
     ]
    }
   ],
   "source": [
    "assert np.isclose(subtractMean(A), np.array([-4., -3., -2., -1.,  0.,  1.,  2.,  3.,  4.])).all()\n",
    "assert np.isclose(subtractMean(B), np.array([[-1.5,  0.5],[ 1.5, -2.5],[-0.5,  2.5]])).all()\n",
    "assert np.isclose(subtractMean(C), np.array([[ 1.1,  0. , -0.1],[-0.2,  0.1, -1.1],[ 3.2, -1. , -2. ]])).all()\n",
    "\n",
    "print(\"You passed all the tests!\")\n",
    "\n",
    "# i think the fact that the copy exists is a good indicator for as to why there were no changes in the values of the arrays; the copy serves as a safeguard from modifications; a lack of a copy probably would have caused changes"
   ]
  },
  {
   "cell_type": "markdown",
   "id": "50e5f128",
   "metadata": {},
   "source": [
    "### Problem 3\n",
    "\n",
    "Write a function ```arrayEdges``` that takes as an input an array and returns a 1-D array of all the elements on the edges of the array starting at the upper left corner and working around clockwise. Do not repeat that first element. If the original array is not 2-D, print('Error') and return -1.\n",
    "\n",
    "*Hint*: Get the shape of the array as height and width, calculate the perimeter (remember not to double count the corners), and make an array of zeros the size of the perimeter. Then fill that array.\n",
    "\n",
    "*Hint 2*: The length of the shape of a 2-D array is 2.\n",
    "\n",
    "*Hint 3*: ```dA = A.dtype``` is the data type of A. ```np.zeros().astype(dA)``` creates an array of that type (if A has strings, this will make an array of '0')."
   ]
  },
  {
   "cell_type": "code",
   "execution_count": 18,
   "id": "6165dcb5",
   "metadata": {},
   "outputs": [],
   "source": [
    "'''your code here'''\n",
    "\n",
    "import numpy as np\n",
    "\n",
    "def arrayEdges(A):\n",
    "    if len(A.shape) != 2:   # to check if array is two dimensiona;\n",
    "        print('Error')\n",
    "        return -1\n",
    "\n",
    "    height, width = A.shape  # to define height and width\n",
    "\n",
    "    \n",
    "    perimeter = 2 * (height + width) - 4  # calculate the perimeter without double-counting corners -- citation for aid: # Citation for aid: “how can you count the perimeter without double counting corners?” prompt. ChatGPT, 8 Jul. 2024, OpenAI, 4 Nov. 2024, chat.openai.com/chat.\n",
    "\n",
    "    dA = A.dtype   # data type of A\n",
    "    edges = np.zeros(perimeter, dtype=dA)    # creates array based on specific data type \n",
    "\n",
    "    idx = 0  # fills the edges array in a clockwise order; citation for aid: # Citation for aid: “how to fill the edges in a clockwise manner” prompt. ChatGPT, 8 Jul. 2024, OpenAI, 4 Nov. 2024, chat.openai.com/chat.\n",
    "\n",
    "\n",
    "    edges[idx:idx+width] = A[0, :]  # to go from left to right based on edges array\n",
    "    idx += width\n",
    "\n",
    "    edges[idx:idx+height-1] = A[1:, -1]   # to go from top to bottom but it excludes a top corner \n",
    "    idx += height - 1\n",
    "\n",
    "    \n",
    "    edges[idx:idx+width-1] = A[-1, -2::-1]  # opposite of left to right function; -1 will ensure continuation and exclusion of right corner\n",
    "    idx += width - 1\n",
    "\n",
    "\n",
    "    edges[idx:idx+height-2] = A[-2:0:-1, 0]  # opposite of top to bottom; excludes both corners\n",
    "\n",
    "    return edges"
   ]
  },
  {
   "cell_type": "code",
   "execution_count": 20,
   "id": "ca5237a2",
   "metadata": {},
   "outputs": [
    {
     "name": "stdout",
     "output_type": "stream",
     "text": [
      "Error\n",
      "You passed all the tests! (disregard that it says Error above...it's supposed to do that)\n"
     ]
    }
   ],
   "source": [
    "'''Test your code'''\n",
    "\n",
    "X = np.array([[1, 2, 3], [4, 5, 6], [7, 8, 9]])\n",
    "Y = np.array([['you', 'got', 'this'],['!','correct','problem']])\n",
    "Z = np.array(['but','this','wont', 'work'])\n",
    "\n",
    "assert np.array(arrayEdges(X) == np.array([1, 2, 3, 6, 9, 8, 7, 4])).all()\n",
    "assert np.array(arrayEdges(Y) == np.array(['you', 'got', 'this', 'problem', 'correct', '!'])).all()\n",
    "assert arrayEdges(Z) == -1\n",
    "\n",
    "print(\"You passed all the tests! (disregard that it says Error above...it's supposed to do that)\")"
   ]
  },
  {
   "cell_type": "markdown",
   "id": "f943e82d",
   "metadata": {},
   "source": [
    "## Palmer's Penguins\n",
    "\n",
    "Below I've imported the Palmer's Penguins dataset, courtesy of Alison Horst's github. Fill in the blanks in Problem 4. You should add code cells below to write code to find the answers."
   ]
  },
  {
   "cell_type": "code",
   "execution_count": 22,
   "id": "ee42d632",
   "metadata": {},
   "outputs": [
    {
     "data": {
      "text/html": [
       "<div>\n",
       "<style scoped>\n",
       "    .dataframe tbody tr th:only-of-type {\n",
       "        vertical-align: middle;\n",
       "    }\n",
       "\n",
       "    .dataframe tbody tr th {\n",
       "        vertical-align: top;\n",
       "    }\n",
       "\n",
       "    .dataframe thead th {\n",
       "        text-align: right;\n",
       "    }\n",
       "</style>\n",
       "<table border=\"1\" class=\"dataframe\">\n",
       "  <thead>\n",
       "    <tr style=\"text-align: right;\">\n",
       "      <th></th>\n",
       "      <th>species</th>\n",
       "      <th>island</th>\n",
       "      <th>bill_length_mm</th>\n",
       "      <th>bill_depth_mm</th>\n",
       "      <th>flipper_length_mm</th>\n",
       "      <th>body_mass_g</th>\n",
       "      <th>sex</th>\n",
       "      <th>year</th>\n",
       "    </tr>\n",
       "  </thead>\n",
       "  <tbody>\n",
       "    <tr>\n",
       "      <th>0</th>\n",
       "      <td>Adelie</td>\n",
       "      <td>Torgersen</td>\n",
       "      <td>39.1</td>\n",
       "      <td>18.7</td>\n",
       "      <td>181.0</td>\n",
       "      <td>3750.0</td>\n",
       "      <td>male</td>\n",
       "      <td>2007</td>\n",
       "    </tr>\n",
       "    <tr>\n",
       "      <th>1</th>\n",
       "      <td>Adelie</td>\n",
       "      <td>Torgersen</td>\n",
       "      <td>39.5</td>\n",
       "      <td>17.4</td>\n",
       "      <td>186.0</td>\n",
       "      <td>3800.0</td>\n",
       "      <td>female</td>\n",
       "      <td>2007</td>\n",
       "    </tr>\n",
       "    <tr>\n",
       "      <th>2</th>\n",
       "      <td>Adelie</td>\n",
       "      <td>Torgersen</td>\n",
       "      <td>40.3</td>\n",
       "      <td>18.0</td>\n",
       "      <td>195.0</td>\n",
       "      <td>3250.0</td>\n",
       "      <td>female</td>\n",
       "      <td>2007</td>\n",
       "    </tr>\n",
       "    <tr>\n",
       "      <th>3</th>\n",
       "      <td>Adelie</td>\n",
       "      <td>Torgersen</td>\n",
       "      <td>NaN</td>\n",
       "      <td>NaN</td>\n",
       "      <td>NaN</td>\n",
       "      <td>NaN</td>\n",
       "      <td>NaN</td>\n",
       "      <td>2007</td>\n",
       "    </tr>\n",
       "    <tr>\n",
       "      <th>4</th>\n",
       "      <td>Adelie</td>\n",
       "      <td>Torgersen</td>\n",
       "      <td>36.7</td>\n",
       "      <td>19.3</td>\n",
       "      <td>193.0</td>\n",
       "      <td>3450.0</td>\n",
       "      <td>female</td>\n",
       "      <td>2007</td>\n",
       "    </tr>\n",
       "  </tbody>\n",
       "</table>\n",
       "</div>"
      ],
      "text/plain": [
       "  species     island  bill_length_mm  bill_depth_mm  flipper_length_mm  \\\n",
       "0  Adelie  Torgersen            39.1           18.7              181.0   \n",
       "1  Adelie  Torgersen            39.5           17.4              186.0   \n",
       "2  Adelie  Torgersen            40.3           18.0              195.0   \n",
       "3  Adelie  Torgersen             NaN            NaN                NaN   \n",
       "4  Adelie  Torgersen            36.7           19.3              193.0   \n",
       "\n",
       "   body_mass_g     sex  year  \n",
       "0       3750.0    male  2007  \n",
       "1       3800.0  female  2007  \n",
       "2       3250.0  female  2007  \n",
       "3          NaN     NaN  2007  \n",
       "4       3450.0  female  2007  "
      ]
     },
     "execution_count": 22,
     "metadata": {},
     "output_type": "execute_result"
    }
   ],
   "source": [
    "import pandas as pd\n",
    "\n",
    "pp_df = pd.read_csv('https://raw.githubusercontent.com/allisonhorst/palmerpenguins/main/inst/extdata/penguins.csv')\n",
    "pp_df.head()"
   ]
  },
  {
   "cell_type": "markdown",
   "id": "54a3fab2",
   "metadata": {},
   "source": [
    "### Problem 4\n",
    "\n",
    " 1. How many penguins were recorded? \n",
    "\n",
    "  - 344 penguins\n",
    "\n",
    " 2. In terms of body mass, how big were the smallest and biggest penguins measured?\n",
    "\n",
    "  - smallest: 2700 g\n",
    "  - largest: 6300 g\n",
    "\n",
    " 3. What species of penguins were recorded and how many of each?\n",
    "\n",
    " # species; number\n",
    " - Adelie ; 152\n",
    " - Gentoo ; 124\n",
    " - Chinstrap ; 68"
   ]
  },
  {
   "cell_type": "code",
   "execution_count": 24,
   "id": "9363dc66",
   "metadata": {},
   "outputs": [
    {
     "name": "stdout",
     "output_type": "stream",
     "text": [
      "Number of penguins recorded: 344\n"
     ]
    }
   ],
   "source": [
    "'''your code here'''\n",
    "# for question 3\n",
    "\n",
    "total_number_penguins = len(pp_df)\n",
    "print(f\"Number of penguins recorded: {total_number_penguins}\")\n",
    "\n",
    "# Citation for aid: “what kind of code can be used to find a total number of entries for a dataset?” prompt. ChatGPT, 8 Jul. 2024, OpenAI, 4 Nov. 2024, chat.openai.com/chat."
   ]
  },
  {
   "cell_type": "code",
   "execution_count": 34,
   "id": "a0ed2ab6-cdff-40d3-818b-21ef191bd3d5",
   "metadata": {},
   "outputs": [
    {
     "name": "stdout",
     "output_type": "stream",
     "text": [
      "Smallest value in body_mass_g: 2700.0\n",
      "Largest value in body_mass_g: 6300.0\n"
     ]
    }
   ],
   "source": [
    "'''your code here'''\n",
    "\n",
    "import pandas as pd\n",
    "df = pd.read_csv('https://raw.githubusercontent.com/allisonhorst/palmerpenguins/main/inst/extdata/penguins.csv')\n",
    "# originally did not include the dowloading of file, which is why i got an error about a not defined \"df\"; corrected with aid: “what is wrong with my code?” prompt. ChatGPT, 8 Jul. 2024, OpenAI, 4 Nov. 2024, chat.openai.com/chat.\n",
    "\n",
    "smallest_penguin_value = df['body_mass_g'].min()\n",
    "largest_penguin_value = df['body_mass_g'].max()\n",
    "\n",
    "print(f\"Smallest value in body_mass_g: {smallest_penguin_value}\")\n",
    "print(f\"Largest value in body_mass_g: {largest_penguin_value}\")"
   ]
  },
  {
   "cell_type": "code",
   "execution_count": 38,
   "id": "a010a3c8-78c0-4fa3-8c97-bafcb739b855",
   "metadata": {},
   "outputs": [
    {
     "name": "stdout",
     "output_type": "stream",
     "text": [
      "Species of penguins recorded and their quantities:\n",
      "species\n",
      "Adelie       152\n",
      "Gentoo       124\n",
      "Chinstrap     68\n",
      "Name: count, dtype: int64\n"
     ]
    }
   ],
   "source": [
    "'''your code here'''\n",
    "\n",
    "import pandas as pd\n",
    "df = pd.read_csv('https://raw.githubusercontent.com/allisonhorst/palmerpenguins/main/inst/extdata/penguins.csv')\n",
    "\n",
    "species_totals = df['species'].value_counts()\n",
    "\n",
    "print(\"Species of penguins recorded and their quantities:\")\n",
    "print(species_totals)"
   ]
  },
  {
   "cell_type": "markdown",
   "id": "f487bce0",
   "metadata": {},
   "source": [
    "### Problem 5\n",
    "\n",
    "Plot a histogram of the body masses of penguins grouped by species. Make sure to include a title, axis labels, and a legend."
   ]
  },
  {
   "cell_type": "code",
   "execution_count": 56,
   "id": "e21d151f-5ba7-4c0e-bf9d-251ad92ba7b4",
   "metadata": {},
   "outputs": [
    {
     "data": {
      "image/png": "[encoded data removed]",
      "text/plain": [
       "<Figure size 1400x800 with 1 Axes>"
      ]
     },
     "metadata": {},
     "output_type": "display_data"
    }
   ],
   "source": [
    "import pandas as pd\n",
    "import matplotlib.pyplot as plt\n",
    "\n",
    "\n",
    "df = pd.read_csv('https://raw.githubusercontent.com/allisonhorst/palmerpenguins/main/inst/extdata/penguins.csv')\n",
    "\n",
    "df = df.dropna(subset=['body_mass_g', 'species'])  # drop missing values; Citation: # Citation for aid: “how to check and drop missing values?” prompt. ChatGPT, 8 Jul. 2024, OpenAI, 4 Nov. 2024, chat.openai.com/chat.\n",
    "\n",
    "\n",
    "colors = {\n",
    "    'Adelie': 'blue',\n",
    "    'Chinstrap': 'green',\n",
    "    'Gentoo': 'purple'\n",
    "}\n",
    "\n",
    "plt.figure(figsize=(14, 8))  # too big?\n",
    "\n",
    "for species in df['species'].unique():\n",
    "    subset = df[df['species'] == species]\n",
    "    plt.hist(subset['body_mass_g'], bins=15, alpha=0.5, label=species, \n",
    "             color=colors[species], edgecolor='black')\n",
    "\n",
    "plt.title('Penguin Body Masses by Species Type')\n",
    "plt.xlabel('Body Mass (g)')\n",
    "plt.ylabel('Frequency')\n",
    "plt.legend(title=\"Species\")\n",
    "plt.show()\n",
    "\n",
    "# Citation for aid: “what is the general code for a histogram?” prompt. ChatGPT, 8 Jul. 2024, OpenAI, 3 Nov. 2024, chat.openai.com/chat."
   ]
  },
  {
   "cell_type": "markdown",
   "id": "25a9dd58-0368-4269-bf39-5d601ac58eb9",
   "metadata": {},
   "source": [
    "### Challenge Problem\n",
    "\n",
    "Write a function ```interleaveArrays``` that takes as arguments two numpy arrays A and B and return a new numpy array with the rows of A and B interleaved, starting with A. If you run out of rows from one matrix or the other complete the array with the remaining rows of the longer array.\n",
    "\n",
    "If the two arrays do not have the same number of columns, print('Error: Shapes of arrays are not compatible.') and return -1\n",
    "If the two arrays contain different data types, print('Error: Types of arrays are not compatible.') and return -2\n",
    "\n",
    "Example:\n",
    "\n",
    "```\n",
    "G = np.array([[1, 2, 3], [4, 5, 6]])\n",
    "H = np.array([[10, 20, 30], [100, 200, 300], [1000, 2000, 3000]])\n",
    "\n",
    "interleave(G,H)\n",
    "```\n",
    "returns\n",
    "```\n",
    "array([[1,2,3], [10,20,30], [4, 5, 6], [100, 200, 300], [1000, 2000, 3000]])\n",
    "```"
   ]
  },
  {
   "cell_type": "code",
   "execution_count": 1,
   "id": "825784c9-b952-450f-b667-13311d8e27cc",
   "metadata": {},
   "outputs": [],
   "source": [
    "'''your code here'''\n",
    "\n",
    "import numpy as np\n",
    "\n",
    "def interleaveArrays(A, B):\n",
    "\n",
    "# i genuinely have no clue as to how to do this problem... "
   ]
  }
 ],
 "metadata": {
  "kernelspec": {
   "display_name": "Python 3 (ipykernel)",
   "language": "python",
   "name": "python3"
  },
  "language_info": {
   "codemirror_mode": {
    "name": "ipython",
    "version": 3
   },
   "file_extension": ".py",
   "mimetype": "text/x-python",
   "name": "python",
   "nbconvert_exporter": "python",
   "pygments_lexer": "ipython3",
   "version": "3.12.7"
  }
 },
 "nbformat": 4,
 "nbformat_minor": 5
}
